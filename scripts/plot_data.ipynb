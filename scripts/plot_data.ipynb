{
 "cells": [
  {
   "cell_type": "code",
   "execution_count": 1,
   "metadata": {},
   "outputs": [],
   "source": [
    "import numpy as np\n",
    "import matplotlib.pyplot as plt"
   ]
  },
  {
   "cell_type": "code",
   "execution_count": 23,
   "metadata": {},
   "outputs": [
    {
     "data": {
      "text/plain": [
       "'\\nKey: \\nQuery 1: grep -c GET\\nQuery 2: grep -c -oE \"\\x08([0-9]{1,3}\\\\.){3}[0-9]{1,3}\\x08\"\\nQuery 3: grep -c PUT\\nQuery 4: grep -c POST\\nQuery 5: grep -c -vE \"200|404\"\\nQuery 6: grep -c kline\\nQuery 7: grep -c -oE \"https?://[^ ]+\"\\n'"
      ]
     },
     "execution_count": 23,
     "metadata": {},
     "output_type": "execute_result"
    }
   ],
   "source": [
    "'''\n",
    "RAW DATA \n",
    "(I computed the list of averages and standard deviations per query from\n",
    "the 5 trials using Excel). Raw data that was in excel is shown below.\n",
    "The numbers below represent the latency in nanoseconds.\n",
    "\n",
    "\t    Query 1\t    Query 2\t    Query 3\t    Query 4\t    Query 5\t    Query 6\t    Query 7\n",
    "Trial 1\t88117487\t1450898240\t70003427\t63112478\t93734497\t83738452\t899506827\n",
    "Trial 2\t746063\t    807365\t    972930\t    724265\t    739492\t    759196\t    819815\n",
    "Trial 3\t1603880\t    760887\t    656803\t    874589\t    698356\t    777052\t    1031089\n",
    "Trial 4\t955940\t    782051\t    986625\t    846065\t    744391\t    932904\t    748365\n",
    "Trial 5\t751853\t    736084\t    810266\t    752629\t    646533\t    859494\t    749111\n",
    "'''\n",
    "\n",
    "'''\n",
    "Key: \n",
    "Query 1: grep -c GET\n",
    "Query 2: grep -c -oE \"\\b([0-9]{1,3}\\.){3}[0-9]{1,3}\\b\"\n",
    "Query 3: grep -c PUT\n",
    "Query 4: grep -c POST\n",
    "Query 5: grep -c -vE \"200|404\"\n",
    "Query 6: grep -c kline\n",
    "Query 7: grep -c -oE \"https?://[^ ]+\"\n",
    "'''"
   ]
  },
  {
   "cell_type": "code",
   "execution_count": 21,
   "metadata": {},
   "outputs": [],
   "source": [
    "# x axis\n",
    "x = np.array(['Query 1', 'Query 2', 'Query 3', 'Query 4', 'Query 5', 'Query 6', 'Query 7'])\n",
    "\n",
    "# y axis\n",
    "averages = np.array([18435044.6,290796925.4, 14686010.2,\t13262005.2,\t19312653.8,\t17413419.6,\t180571041.4])\n",
    "\n",
    "# error bars\n",
    "stds = np.array([34842632.83, 580050657.8, 27658970.54, 24925299.24, 37210938.22, 33162574.27, 359467907.7])"
   ]
  },
  {
   "cell_type": "code",
   "execution_count": 22,
   "metadata": {},
   "outputs": [
    {
     "data": {
      "image/png": "[encoded data removed]",
      "text/plain": [
       "<Figure size 432x288 with 1 Axes>"
      ]
     },
     "metadata": {
      "needs_background": "light"
     },
     "output_type": "display_data"
    }
   ],
   "source": [
    "plt.errorbar(x, averages, stds, fmt='o-', color='red', ecolor='blue', marker='.', linestyle='None')\n",
    "plt.xlabel('Queries')\n",
    "plt.ylabel('Latency (1e8 ns)')\n",
    "plt.title('Average and Standard Deviation of Query Latency')\n",
    "plt.grid(True)\n",
    "plt.show()"
   ]
  }
 ],
 "metadata": {
  "kernelspec": {
   "display_name": "base",
   "language": "python",
   "name": "python3"
  },
  "language_info": {
   "codemirror_mode": {
    "name": "ipython",
    "version": 3
   },
   "file_extension": ".py",
   "mimetype": "text/x-python",
   "name": "python",
   "nbconvert_exporter": "python",
   "pygments_lexer": "ipython3",
   "version": "3.8.3"
  },
  "orig_nbformat": 4
 },
 "nbformat": 4,
 "nbformat_minor": 2
}
